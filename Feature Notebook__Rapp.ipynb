{
 "cells": [
  {
   "cell_type": "markdown",
   "id": "d6351b50-eaf7-46ab-a91b-330f9d3f05f1",
   "metadata": {},
   "source": [
    "Datasets that will be used in analysis"
   ]
  },
  {
   "cell_type": "code",
   "execution_count": null,
   "id": "9ef8b74c-3a49-4231-9f58-31152240d5a9",
   "metadata": {},
   "outputs": [],
   "source": []
  },
  {
   "cell_type": "code",
   "execution_count": null,
   "id": "b525d811-9f75-457f-bd26-ae19429c2c83",
   "metadata": {},
   "outputs": [],
   "source": []
  }
 ],
 "metadata": {
  "kernelspec": {
   "display_name": "Python 3 (ipykernel)",
   "language": "python",
   "name": "python3"
  },
  "language_info": {
   "codemirror_mode": {
    "name": "ipython",
    "version": 3
   },
   "file_extension": ".py",
   "mimetype": "text/x-python",
   "name": "python",
   "nbconvert_exporter": "python",
   "pygments_lexer": "ipython3",
   "version": "3.11.5"
  }
 },
 "nbformat": 4,
 "nbformat_minor": 5
}
